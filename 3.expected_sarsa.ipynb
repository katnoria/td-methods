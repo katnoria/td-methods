{
 "cells": [
  {
   "cell_type": "markdown",
   "metadata": {},
   "source": [
    "# Temporal Difference Control Methods - Part 3"
   ]
  },
  {
   "cell_type": "markdown",
   "metadata": {},
   "source": [
    "In monte carlo control methods, we had to wait for the episode to finish in order to make Q table updates. In temporal difference (TD) methods, we update the table as soon as the agent starts interacting with the environment (i.e every timestep)"
   ]
  },
  {
   "cell_type": "markdown",
   "metadata": {},
   "source": [
    "**Part 3**:  In this notebook, we will implement another on-policy method called Expected SARSA to estimate the optimal policy of CliffWalking gym environment."
   ]
  },
  {
   "cell_type": "markdown",
   "metadata": {},
   "source": [
    "# Import Libraries"
   ]
  },
  {
   "cell_type": "code",
   "execution_count": 1,
   "metadata": {},
   "outputs": [],
   "source": [
    "import gym\n",
    "import sys\n",
    "import numpy as np\n",
    "import pandas as pd\n",
    "from collections import defaultdict, deque\n",
    "import matplotlib.pyplot as plt\n",
    "plt.style.use('ggplot')\n",
    "%matplotlib inline"
   ]
  },
  {
   "cell_type": "markdown",
   "metadata": {},
   "source": [
    "# Gym Environment\n",
    "\n",
    "Create gym environment and explore state and action space"
   ]
  },
  {
   "cell_type": "code",
   "execution_count": 2,
   "metadata": {},
   "outputs": [],
   "source": [
    "# simple environment with discrete state and action space\n",
    "env = gym.make('CliffWalking-v0')"
   ]
  },
  {
   "cell_type": "code",
   "execution_count": 3,
   "metadata": {},
   "outputs": [
    {
     "name": "stdout",
     "output_type": "stream",
     "text": [
      "State space: Discrete(48)\n",
      "Action space: Discrete(4)\n"
     ]
    }
   ],
   "source": [
    "# Explore state and action space\n",
    "print('State space: {}'.format(env.observation_space))\n",
    "print('Action space: {}'.format(env.action_space))"
   ]
  },
  {
   "cell_type": "markdown",
   "metadata": {},
   "source": [
    "Let us see how well does the random player performs"
   ]
  },
  {
   "cell_type": "code",
   "execution_count": 4,
   "metadata": {},
   "outputs": [
    {
     "name": "stdout",
     "output_type": "stream",
     "text": [
      "last reward: -1, total score: -73294\n"
     ]
    }
   ],
   "source": [
    "# Random player: takes random action\n",
    "env.reset()\n",
    "score = 0\n",
    "while True:\n",
    "    action = np.random.randint(env.action_space.n)\n",
    "    state, reward, done, info = env.step(action)\n",
    "    score += reward\n",
    "    if done:\n",
    "        print('last reward: {}, total score: {}'.format(reward, score))\n",
    "        break"
   ]
  },
  {
   "cell_type": "markdown",
   "metadata": {},
   "source": [
    "We continue using epsilon-greedy policy (same as monte carlo implementation)"
   ]
  },
  {
   "cell_type": "code",
   "execution_count": 5,
   "metadata": {},
   "outputs": [],
   "source": [
    "def eps_greedy(eps, Q, state, nA):\n",
    "    rand = np.random.rand()    \n",
    "    if rand < eps:\n",
    "        return np.random.randint(nA)\n",
    "    else:\n",
    "        return np.argmax(Q[state])"
   ]
  },
  {
   "cell_type": "markdown",
   "metadata": {},
   "source": [
    "# EXPECTED SARSA\n",
    "\n",
    "\n",
    "Update rule ->\n",
    "$Q(S_t, A_t) = Q(S_t, A_t) + \\alpha(R_t+1 + \\gamma \\, \\sum_{a} \\pi(a|S_{t+1}) Q(S_{t+1},a) - Q(S_t, A_t)$"
   ]
  },
  {
   "cell_type": "code",
   "execution_count": 11,
   "metadata": {},
   "outputs": [],
   "source": [
    "def update_sarsa_Q(eps, nA, alpha, gamma, Q, state, action, next_state=None):    \n",
    "    if next_state is not None:\n",
    "        # default policy with equal probability\n",
    "        policy = np.ones(nA) * eps/nA\n",
    "        # Assign higher probability to the action with max Q value\n",
    "        policy[np.argmax(Q[next_state])] = 1 - eps + eps/nA        \n",
    "        Qsa = np.dot(Q[next_state], policy)\n",
    "    else:\n",
    "        Qsa = 0        \n",
    "    updated_q_value = Q[state][action] + alpha * (reward + gamma * Qsa - Q[state][action])\n",
    "    return updated_q_value"
   ]
  },
  {
   "cell_type": "code",
   "execution_count": 12,
   "metadata": {},
   "outputs": [],
   "source": [
    "def generate_sarsa_episode(env, Q, eps, alpha, gamma):    \n",
    "    nA = env.action_space.n\n",
    "    state = env.reset()\n",
    "    score = 0\n",
    "    while True:\n",
    "        action = eps_greedy(eps, Q, state, nA)\n",
    "        next_state, reward, done, info = env.step(action)\n",
    "        score += reward\n",
    "        \n",
    "        if not done:\n",
    "            Q[state][action] = update_sarsa_Q(eps, nA, alpha, gamma, Q, state, action, next_state)\n",
    "            state = next_state\n",
    "            \n",
    "        if done:\n",
    "            Q[state][action] = update_sarsa_Q(eps, nA, alpha, gamma, Q, state, action)            \n",
    "            break\n",
    "            \n",
    "    return Q, score"
   ]
  },
  {
   "cell_type": "code",
   "execution_count": 13,
   "metadata": {},
   "outputs": [],
   "source": [
    "# Play for defined number of episodes\n",
    "def train(env, num_episodes, eps=1.0, eps_min=0.01, eps_decay=0.9, alpha=0.01, gamma=1.0, plot_every=100):    \n",
    "    Q = defaultdict(lambda: np.zeros(env.action_space.n))\n",
    "    print_every = int(0.1 * num_episodes)\n",
    "    print_every = print_every if print_every > 0 else 1\n",
    "    all_rewards = []\n",
    "    tmp_rewards = deque(maxlen=plot_every)\n",
    "    avg_rewards = deque(maxlen=num_episodes)\n",
    "    for i in range(1, num_episodes + 1):\n",
    "        eps = max(eps * eps_decay, eps_min)        \n",
    "        Q, score = generate_sarsa_episode(env, Q, eps, alpha, gamma) \n",
    "        all_rewards.append(score)\n",
    "        tmp_rewards.append(score)\n",
    "        \n",
    "        if i % print_every == 0:\n",
    "            print('\\rProgress: {}/{}, average: {}'.format(i, num_episodes, np.mean(score)), end='')\n",
    "            sys.stdout.flush()        \n",
    "            \n",
    "        if i % plot_every == 0:\n",
    "            avg_rewards.append(np.mean(tmp_rewards))\n",
    "    return Q, all_rewards, avg_rewards"
   ]
  },
  {
   "cell_type": "markdown",
   "metadata": {},
   "source": [
    "Train the agent and try to recover optimal policy (or near optimal)"
   ]
  },
  {
   "cell_type": "code",
   "execution_count": 56,
   "metadata": {},
   "outputs": [
    {
     "name": "stdout",
     "output_type": "stream",
     "text": [
      "Progress: 5000/5000, average: -13.0"
     ]
    }
   ],
   "source": [
    "# Hyperparameters (RL is very susceptible to hyperparams)\n",
    "\n",
    "eps = 1.0       # starting epsilon\n",
    "eps_min = 0.01  # minimum epsilon\n",
    "eps_decay = 0.9 # decay rate\n",
    "alpha = 0.01    # Q value update step size\n",
    "gamma = 1.0     # discount factor\n",
    "\n",
    "Q_sarsa_orig, score_orig, avg_score_orig = train(env, 5000, eps=eps, eps_min=eps_min, eps_decay=eps_decay, alpha=alpha, gamma=gamma)"
   ]
  },
  {
   "cell_type": "markdown",
   "metadata": {},
   "source": [
    "Lets see the impact of alpha when we reduce the number of training episodes. Here we have reduced the number of training episodes from 5000 to 100"
   ]
  },
  {
   "cell_type": "code",
   "execution_count": 48,
   "metadata": {},
   "outputs": [
    {
     "name": "stdout",
     "output_type": "stream",
     "text": [
      "Progress: 100/100, average: -497.0"
     ]
    }
   ],
   "source": [
    "eps = 1.0       # starting epsilon\n",
    "eps_min = 0.01  # minimum epsilon\n",
    "eps_decay = 0.9 # decay rate\n",
    "alpha = 0.01     # Q value update step size\n",
    "gamma = 1.0     # discount factor\n",
    "\n",
    "Q_sarsa, score, avg_score = train(env, 100, eps=eps, eps_min=eps_min, eps_decay=eps_decay, alpha=alpha, gamma=gamma)"
   ]
  },
  {
   "cell_type": "markdown",
   "metadata": {},
   "source": [
    "It seems the agent is learning very slowly, increasing alpha from 0.01 to 0.3 does speed up the training"
   ]
  },
  {
   "cell_type": "code",
   "execution_count": 51,
   "metadata": {},
   "outputs": [
    {
     "name": "stdout",
     "output_type": "stream",
     "text": [
      "Progress: 100/100, average: -13.0"
     ]
    }
   ],
   "source": [
    "eps = 1.0       # starting epsilon\n",
    "eps_min = 0.01  # minimum epsilon\n",
    "eps_decay = 0.9 # decay rate\n",
    "alpha = 0.3     # Q value update step size\n",
    "gamma = 1.0     # discount factor\n",
    "\n",
    "Q_sarsa, score, avg_score = train(env, 100, eps=eps, eps_min=eps_min, eps_decay=eps_decay, alpha=alpha, gamma=gamma)"
   ]
  },
  {
   "cell_type": "markdown",
   "metadata": {},
   "source": [
    "# Visualise"
   ]
  },
  {
   "cell_type": "code",
   "execution_count": 57,
   "metadata": {},
   "outputs": [],
   "source": [
    "policy = np.array([np.argmax(Q_sarsa_orig[key]) if key in Q_sarsa else -1 for key in np.arange(12*4)])"
   ]
  },
  {
   "cell_type": "code",
   "execution_count": 58,
   "metadata": {},
   "outputs": [
    {
     "data": {
      "text/plain": [
       "array([[ 2,  0,  1,  1,  1,  0,  1,  1,  3,  1,  2,  2],\n",
       "       [ 2,  3,  1,  1,  1,  1,  2,  1,  1,  1,  1,  2],\n",
       "       [ 1,  1,  1,  1,  1,  1,  1,  1,  1,  1,  1,  2],\n",
       "       [ 0, -1, -1, -1, -1, -1, -1, -1, -1, -1, -1, -1]])"
      ]
     },
     "execution_count": 58,
     "metadata": {},
     "output_type": "execute_result"
    }
   ],
   "source": [
    "# UP: 0, RIGHT: 1, DOWN: 2, LEFT: 3, N/A: -1\n",
    "# Display policy\n",
    "policy.reshape(4, 12)"
   ]
  },
  {
   "cell_type": "markdown",
   "metadata": {},
   "source": [
    "Plot average rewards over the total number of episodes"
   ]
  },
  {
   "cell_type": "code",
   "execution_count": 59,
   "metadata": {},
   "outputs": [
    {
     "data": {
      "image/png": "[encoded data removed]",
      "text/plain": [
       "<matplotlib.figure.Figure at 0x11cda4be0>"
      ]
     },
     "metadata": {},
     "output_type": "display_data"
    }
   ],
   "source": [
    "plt.plot(np.linspace(0, 100, len(avg_score_orig)), np.asarray(avg_score_orig))\n",
    "plt.xlabel('Episodes')\n",
    "plt.ylabel('Average Reward (100 episode)')\n",
    "plt.title('SARSA Agent Training')\n",
    "plt.show()"
   ]
  },
  {
   "cell_type": "markdown",
   "metadata": {},
   "source": [
    "# Try it out"
   ]
  },
  {
   "cell_type": "code",
   "execution_count": 23,
   "metadata": {},
   "outputs": [
    {
     "name": "stdout",
     "output_type": "stream",
     "text": [
      "last reward: -1, total score: -13\n"
     ]
    }
   ],
   "source": [
    "# Use policy to play\n",
    "state = env.reset()\n",
    "score = 0\n",
    "while True:\n",
    "    action = np.argmax(Q_sarsa[state])\n",
    "    state, reward, done, info = env.step(action)\n",
    "    score += reward\n",
    "    if done:\n",
    "        print('last reward: {}, total score: {}'.format(reward, score))\n",
    "        break"
   ]
  }
 ],
 "metadata": {
  "kernelspec": {
   "display_name": "py3",
   "language": "python",
   "name": "py3"
  },
  "language_info": {
   "codemirror_mode": {
    "name": "ipython",
    "version": 2
   },
   "file_extension": ".py",
   "mimetype": "text/x-python",
   "name": "python",
   "nbconvert_exporter": "python",
   "pygments_lexer": "ipython2",
   "version": "2.7.11"
  }
 },
 "nbformat": 4,
 "nbformat_minor": 2
}
